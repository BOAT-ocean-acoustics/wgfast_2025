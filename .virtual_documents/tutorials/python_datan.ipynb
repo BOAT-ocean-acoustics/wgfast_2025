














pd.DataFrame({'First':[1,2,3],
              "Second":["One", "Two", "Three"]})





nfs = pd.DataFrame([ #convert to dataframe
    uwa.AcousticWave(speed =1470, frequency=f * 1000, bw=b).__dict__  #extract all attributes as dict
    for f in range(10,101) #loop over a range of frequencies
    for b in range(3,20) #loop over a range of beam widths
])

#let's see the Dataframe
nfs





nfs = nfs.set_index(['frequency', 'bw'])
nfs





nfs.shape





nfs.describe()








nfs.reset_index().plot.scatter(x="frequency", y="bw", #x and y axes
                               c="rnf", #color vairable
                               clim=[0,10], #colorscale limits
                               s=2, #size of scatter
                               xlabel="Frequency (Hz)", #x axis title
                               ylabel="Beam width (°)") #y axis title


nfs.boxplot(column="rnf", by="bw", xlabel="Beam width (°)", ylabel="Nearfield (m)")





import seaborn as sns  

#we use the rnf column, then we reset the index, to use frequency and bw as our new rows (index) and columns.
nfs_piv = nfs.rnf.reset_index().pivot(index="frequency", columns="bw")

sns.heatmap(nfs_piv, #data to use
            annot=False,#add values to cells
            vmin=0, #minimum color value
            vmax=5, #maximum color value
            cmap="magma") #colorscale








dataset = hv.Dataset(Sv.isel(channel=1))

# Declare HeatMap
heatmap = hv.HeatMap(dataset, label='Sv')
heatmap


dataset.to(hv.Image, ['distance', 'depth']).hist()


histogram(dataset, normed=False).opts(color="green")


img = hv.HeatMap(dataset, label='Sv')
hist = histogram(dataset, normed=False).opts(color="green")

mopts = opts.HeatMap(tools=['box_select','lasso_select'], active_tools=['box_select'])

#sv_ls = link_selections.instance()
sv_ls = link_selections(img.opts(mopts) + hist, index_cols=['depth','distance'])
print(sv_ls)

#sv_ls(img.opts(mopts) + hist)


hv_coloured = dataset.hvplot.points(x='col1', y='col2', c='time_color'
                              ).opts(colorbar_opts=cbar_opts, cmap='viridis')


dataset = hv.Dataset(Sv.isel(channel=1))
dataset


from bokeh.sampledata.autompg import autompg
autompg_ds = hv.Dataset(autompg, ['yr', 'name', 'origin'])
w_accel_scatter = hv.Scatter(autompg_ds, 'weight', 'accel')
mpg_hist = histogram(autompg_ds, dimension='mpg', normed=False).opts(color="green")
violin = hv.Violin(autompg_ds, [], 'hp')

mpg_ls = link_selections.instance()
print(mpg_ls.selection_expr)
mpg_ls(w_accel_scatter + mpg_hist + violin)


dataset


scatter = hv.Scatter(dataset,)
scatter = scatter.opts(color='Sv')
scatter


from dash import Dash, html
from plotly.data import iris

import holoviews as hv
from holoviews import opts
from holoviews.plotting.plotly.dash import to_dash
from holoviews.operation.datashader import datashade

import numpy as np
import pandas as pd

# Load iris dataset and replicate with noise to create large dataset
#df_original = iris()[["sepal_length", "sepal_width", "petal_length", "petal_width"]]
#df = pd.concat([
#    df_original + np.random.randn(*df_original.shape) * 0.1
#    for i in range(100)])

#dataset = hv.Dataset(df)

# Build selection linking object
selection_linker = hv.selection.link_selections.instance()

scatter = selection_linker(
    hv.operation.datashader.datashade(
        #hv.Scatter(dataset, kdims=["sepal_length"], vdims=["sepal_width"])
        hv.Scatter(dataset)
    )).opts(title="Datashader with %d points" % len(dataset))

hist = selection_linker(
    #hv.operation.histogram(dataset, dimension="petal_width", normed=False)
    hv.operation.histogram(dataset, normed=False)
)

# Use plot hook to set the default drag mode to vertical box selection
def set_hist_dragmode(plot, element):
    fig = plot.state
    fig['layout']['dragmode'] = "select"
    fig['layout']['selectdirection'] = "h"

hist.opts(opts.Histogram(hooks=[set_hist_dragmode]))

app = Dash()
components = to_dash(app, [scatter, hist], reset_button=True)

app.layout = html.Div(components.children)

if __name__ == "__main__":
    app.run(debug=False)


autompg_ds = hv.Dataset(autompg, ['yr', 'name', 'origin'])

mopts = opts.Points(size=2, tools=['box_select','lasso_select'], active_tools=['box_select'])

gridmatrix(autompg_ds, chart_type=hv.Points).opts(mopts)
