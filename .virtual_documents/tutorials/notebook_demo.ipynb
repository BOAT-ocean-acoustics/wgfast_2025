


import uwa #import the uwa package

# create an acoustic wave object
# with an ambient soundspeed of 1470 m/s, 
# at 38 kHz with a 3 dB beamwidth of 7°
uw = uwa.AcousticWave(speed =1470, frequency=38e3, bw=7) 

#let's see all the results
uw.__dict__






#import packages
import pandas as pd

#loop over frequencies between 0.1 and 100 kHz and beam widths [3,  20[ °
#NOTE: range in Python includes the starting value but excludes the stop values e.g. range(0,10) is 0,1,2,3,4,5,6,7,8,9
nfs = pd.DataFrame([
    uwa.AcousticWave(speed =1470, frequency=f * 100, bw=b).__dict__ 
    for f in range(1,1001) 
    for b in range(3,20)
])

#let's see the Dataframe
nfs








import plotly.express as px
import plotly.graph_objects as go

fig = go.Figure()
fig.add_trace(
    go.Heatmap()
)
fig.add_trace(
    go.Contour(
        z=nfs.pivot(index='bw', columns='frequency', values='rnf'),
              x=nfs['frequency'].unique() / 1e3,
              y=nfs['bw'].unique(),
        contours=dict(
            coloring ='heatmap',#fill contours like a heatmap
            showlabels = True, # show labels on contours
            labelfont = dict( # label font properties
                size = 12,
                color = 'white',
            )),
        colorbar=dict(
            title=dict(
                text='Nearfield (m)', # colorbar title
                side='right',
                font=dict(
                    size=14,
                    family='Arial, sans-serif')
            )
        ),
        hovertemplate = #stylise the information received when hoovering
        "Nearfield: %{z:.2f} m <br>" +
        "Frequency: %{x} kHz<br>" +
        "3 dB beam width: %{y} °<br>" 
    )
)
fig.update_traces(colorscale="RdYlBu_r", zmin=1, zmax=10, name="Nearfield (m)")
fig.update_layout(yaxis=dict(title=dict( text="3 dB Beam width (°)" )  ),
                 xaxis=dict(title=dict( text="Frequency (kHz)" )  ))

fig





import xarray as xr
hdz = xr.Dataset.from_dataframe(
    pd.DataFrame([{'bottom':d,'slope':q,'tau':t,'hdz':uwa.deadzone(d=d*10, speed=1460,q=q,tau=t)} 
                  for d in range(1,101) #bottom depth 1 - 100 m
                  for q in range(0,21)  #slope 1 - 41°
                  for t in [0.001024, 0.000512, 0.000256, 0.000128,0.000064] #pulse duration of 1.024, 0.512, 0.256, 0.128 and 0.64 ms
                 ]).set_index(['bottom','slope', 'tau'])
).to_dataarray(name="hdz")

hdz#.expand_dims("bottom")


hdz.plot(x="slope", y="bottom", col="tau", col_wrap=3)


g_simple_line = hdz.isel(slope=slice(0,None,5)).plot(
    x="bottom", hue="tau", col="slope", col_wrap=5)





import hvplot.xarray 
import panel as pn

mvbs = xr.open_dataset("./python_plotting_files/mvbs.nc")
mvbs


image, select = mvbs.hvplot(x='ping_time', y='depth', widgets={'channel':pn.widgets.Select},
                          clim =(-85, -30), cmap="RdYlBu_r", rasterize=True)
image


