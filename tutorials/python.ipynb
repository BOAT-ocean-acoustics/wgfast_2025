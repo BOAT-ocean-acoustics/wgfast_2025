{
 "cells": [
  {
   "cell_type": "markdown",
   "metadata": {},
   "source": [
    "# To Python or not to Python?  \n",
    "\n",
    "<div class=\"alert alert-block alert-warning\"> \n",
    "Python Starts counting at 0 unlike R or Matlab which start at 1  \n",
    "</div>\n",
    "\n",
    "## Python core data structure  \n",
    "\n",
    "There a re 4 core data structures in Python:  \n",
    "- **List**: a collection of values, can be ordered and is changeable. Allows duplicate members.\n",
    "- **Tuple**: a collection which can be ordered and is *unchangeable*. Allows duplicate members.\n",
    "- **Set**: a collection which is unordered, *unchangeable*, *unindexed*. No duplicate members (duplicates ar eremoved). Items can't be changed but can be removed or added.\n",
    "- **Dictionary**: a collection which is ordered (as of Python 3.7) and changeable. No duplicate members.\n",
    "\n",
    "### Lists  \n",
    "  Are used to store sequences of items, and can hold a mix of data types like strings, integegers and floats. Lists are defined by ```[]```.  \n",
    "\n",
    "  |List operation| Python|Result|\n",
    "  |-|-|-|\n",
    "  |List of numbers| ```int_list = [1, 5, 3, 22, 7, 10]``` | ```[1, 5, 3, 22, 7, 10]``` |\n",
    "  |List of strings| ```str_list = ['e','c','h', 'o', 'p','y', 'p', 'e']```| ```['e','c','h', 'o', 'p','y', 'p', 'e']```|\n",
    "  |List with mixed types| ```mixed_list = [\"EK\", 80, \"38 kHz\", 7, \"CD\"]```  | ```['EK', 80, '38 kHz', 7, 'CD']``` |\n",
    "  |Access element at first position| ```mixed_list[0]```|```'EK'```|\n",
    "  |Access element at fourth position| ```mixed_list[3]```|```'7'```|\n",
    "  |Replace an element in a list| ```int_list[2] = 4 ```| ```[1, 5, 4, 22, 7, 10]``` | \n",
    "  |Get the number of elements in the list| ```len(mixed_list)```|```5```|\n",
    "  |Add element to the end of a list| ```mixed_list.append('ME70')```|```['EK', 80, '38 kHz', 7, 'CD', 'ME70']```|\n",
    "  |Add element to the 6th position of a list| ```mixed_list.insert([5, 'Simrad'])```|```['EK', 80, '38 kHz', 7, 'CD','Simrad' ,'ME70']```|\n",
    "  |Extend list by a list| ```mixed_list.extend([24,18,36,'ME70','Beam'])```|```['EK', 80, '38 kHz', 7, 'CD', 'ME70', 24, 18, 36, 'ME70', 'Beam']```|\n",
    "  |Count occurences of an element in a list| ```mixed_list.count['ME70']```|```2```|\n",
    "  |Clear list| ```mixed_list.clear()```|```[]```|\n",
    "  |Sort list alphabetically or ascending| ```str_list.sort()```|```['c', 'e', 'e', 'h', 'o', 'p', 'p', 'y']```|\n",
    "  |Sort list descending| ```int_list.sort(reverse=True)```|```[22, 10, 7, 5, 4, 1]```|\n",
    "  ||Remove elment from list| ```int_list.remove(5)```|```[22, 10, 7, 4, 1]```|\n",
    "\n",
    "List of lists can be used as matrix structures. We can create a 3x3 grid as a nested list of 3 lists:"
   ]
  },
  {
   "cell_type": "code",
   "execution_count": 39,
   "metadata": {},
   "outputs": [
    {
     "data": {
      "text/plain": [
       "[[1, 2, 3], [4, 5, 6], [7, 8, 9]]"
      ]
     },
     "execution_count": 39,
     "metadata": {},
     "output_type": "execute_result"
    }
   ],
   "source": [
    "matrix = [[1, 2, 3], [4, 5, 6], [7, 8, 9]]\n",
    "matrix"
   ]
  },
  {
   "cell_type": "markdown",
   "metadata": {},
   "source": [
    "We can access items with double indices:"
   ]
  },
  {
   "cell_type": "code",
   "execution_count": 40,
   "metadata": {},
   "outputs": [
    {
     "data": {
      "text/plain": [
       "6"
      ]
     },
     "execution_count": 40,
     "metadata": {},
     "output_type": "execute_result"
    }
   ],
   "source": [
    "matrix[1][2]"
   ]
  },
  {
   "cell_type": "markdown",
   "metadata": {},
   "source": [
    "### Tuples  \n",
    "Tuples are immutable - once created, the elments can't be changed anymore. Tuples are used if you need data to be read only.  \n",
    "\n",
    "|Tuple Operation |Python|Result|\n",
    "|----------------|------|------|\n",
    "|Create a tuple|```num_tup = (1,2,3)```|```(1,2,3)```|\n",
    "|Append values to a tuple|```num_tup = num_tup + (4,5,6)```|```(1,2,3,4,5,6)```|\n",
    "|Repeat a tuple multiple times|```num_tup = num_tup * 3 ```|```(1, 2, 3, 4, 5, 6, 1, 2, 3, 4, 5, 6, 1, 2, 3, 4, 5, 6)```|\n",
    "|Get index of first occurence of a value|```num_tup.index(5)```|```4```|\n",
    "|Count number of occurences of a value|```num_tup.count(5)```|```3```|  \n",
    "\n",
    "### Sets  \n",
    "\n",
    "Sets are collections of unique items, duplicates are removed automatically. Sets are handy for operations like union (combine), intersection or difference:  \n",
    "\n",
    "|Sets operation|Python| Result|\n",
    "|--------------|------|-------|\n",
    "|Define a Set of unique numbers (duplicates are removed)| ```num_set={1, 2, 2, 3, 3, 1, 4, 5}```|```{1,2,3,4,5}```|\n",
    "|Define a second Set of numbers| ```num_set2 = {4, 5, 6, 7, 8}```|```{4, 5, 6, 7, 8}```|\n",
    "|Combine the two Sets|```(num_set\\|num_set2)``` |```{1, 2, 3, 4, 5, 6, 7, 8}```| \n",
    "|Intersection of the two Sets <br>Elements present in both Sets|```num_set & num_set2``` |```{4, 5}```| \n",
    "|Difference the two Sets<br>Elements unique to the first Set|```num_set - num_set2``` |```{1, 2, 3}```| \n",
    "|Add a value to a Set|```num_set.add(6)``` |```{1, 2, 3, 4, 5, 6}```| \n",
    "|Remove a value from a Set|```num_set.remove(1)``` |```{2, 3, 4, 5, 6}```| \n",
    "|Check if value is in a Set|```6 in num_set``` |```True```| \n",
    "\n",
    "\n",
    "### Dictionaries  \n",
    "Dictionnaries "
   ]
  },
  {
   "cell_type": "code",
   "execution_count": 61,
   "metadata": {},
   "outputs": [
    {
     "data": {
      "text/plain": [
       "[{'frequency_kHz': 18,\n",
       "  'transducer_area': 200,\n",
       "  'beamwidth_3dB': 11,\n",
       "  'power': 5000},\n",
       " {'frequency_kHz': 38,\n",
       "  'transducer_area': 100,\n",
       "  'beamwidth_3dB': 7,\n",
       "  'power': 2500}]"
      ]
     },
     "execution_count": 61,
     "metadata": {},
     "output_type": "execute_result"
    }
   ],
   "source": [
    "[\n",
    "    {\n",
    "        \"frequency_kHz\": 18,\n",
    "        \"transducer_area\":200,\n",
    "        \"beamwidth_3dB\":11,\n",
    "        \"power\":5000\n",
    "    },\n",
    " {  \n",
    "     \"frequency_kHz\": 38,\n",
    "     \"transducer_area\":100,\n",
    "     \"beamwidth_3dB\":7,\n",
    "     \"power\":2500\n",
    " }\n",
    "    ]"
   ]
  },
  {
   "cell_type": "code",
   "execution_count": 59,
   "metadata": {},
   "outputs": [
    {
     "data": {
      "text/plain": [
       "True"
      ]
     },
     "execution_count": 59,
     "metadata": {},
     "output_type": "execute_result"
    }
   ],
   "source": [
    "num_set={1,2, 2,3, 3, 1, 4, 5}\n",
    "num_set2 = {4, 5, 6, 7, 8}\n",
    "num_set|num_set2\n",
    "num_set-num_set2\n",
    "num_set.add(6)\n",
    "num_set.remove(1)\n",
    "6 in num_set"
   ]
  },
  {
   "cell_type": "code",
   "execution_count": 50,
   "metadata": {},
   "outputs": [
    {
     "data": {
      "text/plain": [
       "3"
      ]
     },
     "execution_count": 50,
     "metadata": {},
     "output_type": "execute_result"
    }
   ],
   "source": [
    "num_tup=(1,2,3)\n",
    "num_tup = num_tup + (4,5,6)\n",
    "num_tup = num_tup * 3\n",
    "num_tup.index(5)\n",
    "num_tup.count(5)"
   ]
  },
  {
   "cell_type": "code",
   "execution_count": 44,
   "metadata": {},
   "outputs": [
    {
     "data": {
      "text/plain": [
       "[1, 5, 3, 22, 7, 10]"
      ]
     },
     "execution_count": 44,
     "metadata": {},
     "output_type": "execute_result"
    }
   ],
   "source": [
    "list_of_numbers = [1,3,5,7,10,22]\n",
    "list_of_numbers\n",
    "int_list = [1, 5, 3, 22, 7, 10]\n",
    "int_list"
   ]
  },
  {
   "cell_type": "code",
   "execution_count": 54,
   "metadata": {},
   "outputs": [
    {
     "data": {
      "text/plain": [
       "[1, 4, 22, 7, 10]"
      ]
     },
     "execution_count": 54,
     "metadata": {},
     "output_type": "execute_result"
    }
   ],
   "source": [
    "int_list[2] = 4 \n",
    "int_list.remove(5)\n",
    "int_list"
   ]
  },
  {
   "cell_type": "markdown",
   "metadata": {},
   "source": [
    "We can create a list with  mixed types:"
   ]
  },
  {
   "cell_type": "code",
   "execution_count": 20,
   "metadata": {},
   "outputs": [
    {
     "data": {
      "text/plain": [
       "['EK', 80, '38 kHz', 7, 'CD']"
      ]
     },
     "execution_count": 20,
     "metadata": {},
     "output_type": "execute_result"
    }
   ],
   "source": [
    "mixed_list = [\"EK\", 80, \"38 kHz\", 7, \"CD\"]\n",
    "mixed_list"
   ]
  },
  {
   "cell_type": "markdown",
   "metadata": {},
   "source": [
    "We can access elements of lists by adding the position in ```[]``` at the end:"
   ]
  },
  {
   "cell_type": "code",
   "execution_count": 21,
   "metadata": {},
   "outputs": [
    {
     "data": {
      "text/plain": [
       "'EK'"
      ]
     },
     "execution_count": 21,
     "metadata": {},
     "output_type": "execute_result"
    }
   ],
   "source": [
    "mixed_list[0] #gives us the first element which corresponds to position 0"
   ]
  },
  {
   "cell_type": "code",
   "execution_count": 22,
   "metadata": {},
   "outputs": [
    {
     "data": {
      "text/plain": [
       "7"
      ]
     },
     "execution_count": 22,
     "metadata": {},
     "output_type": "execute_result"
    }
   ],
   "source": [
    "mixed_list[3] #gives us the fourth element which corresponds to position 3"
   ]
  },
  {
   "cell_type": "markdown",
   "metadata": {},
   "source": [
    "We can get the length or the number of elements in a list through ```len```:  "
   ]
  },
  {
   "cell_type": "code",
   "execution_count": 23,
   "metadata": {},
   "outputs": [
    {
     "data": {
      "text/plain": [
       "5"
      ]
     },
     "execution_count": 23,
     "metadata": {},
     "output_type": "execute_result"
    }
   ],
   "source": [
    "len(mixed_list)"
   ]
  },
  {
   "cell_type": "markdown",
   "metadata": {},
   "source": [
    "We can easily append to the end of a list:"
   ]
  },
  {
   "cell_type": "code",
   "execution_count": 24,
   "metadata": {},
   "outputs": [
    {
     "data": {
      "text/plain": [
       "['EK', 80, '38 kHz', 7, 'CD', 'ME70']"
      ]
     },
     "execution_count": 24,
     "metadata": {},
     "output_type": "execute_result"
    }
   ],
   "source": [
    "mixed_list.append('ME70')\n",
    "mixed_list"
   ]
  },
  {
   "cell_type": "markdown",
   "metadata": {},
   "source": [
    "We can insert a value at a given position:"
   ]
  },
  {
   "cell_type": "code",
   "execution_count": 25,
   "metadata": {},
   "outputs": [
    {
     "data": {
      "text/plain": [
       "['EK', 80, '38 kHz', 7, 'CD', 'Simrad', 'ME70']"
      ]
     },
     "execution_count": 25,
     "metadata": {},
     "output_type": "execute_result"
    }
   ],
   "source": [
    "mixed_list.insert(5,\"Simrad\")\n",
    "mixed_list"
   ]
  },
  {
   "cell_type": "code",
   "execution_count": 26,
   "metadata": {},
   "outputs": [
    {
     "data": {
      "text/plain": [
       "['EK', 80, '38 kHz', 7, 'CD', 'Simrad', 'ME70', 24, 18, 36, 'ME70', 'Beam']"
      ]
     },
     "execution_count": 26,
     "metadata": {},
     "output_type": "execute_result"
    }
   ],
   "source": [
    "mixed_list.extend([24,18,36,'ME70','Beam'])\n",
    "mixed_list"
   ]
  },
  {
   "cell_type": "code",
   "execution_count": 27,
   "metadata": {},
   "outputs": [
    {
     "data": {
      "text/plain": [
       "2"
      ]
     },
     "execution_count": 27,
     "metadata": {},
     "output_type": "execute_result"
    }
   ],
   "source": [
    "mixed_list.count('ME70')"
   ]
  },
  {
   "cell_type": "code",
   "execution_count": 38,
   "metadata": {},
   "outputs": [
    {
     "data": {
      "text/plain": [
       "['y', 'p', 'p', 'o', 'h', 'e', 'e', 'c']"
      ]
     },
     "execution_count": 38,
     "metadata": {},
     "output_type": "execute_result"
    }
   ],
   "source": [
    "str_list = ['e','c','h', 'o', 'p','y', 'p', 'e']\n",
    "str_list.sort(reverse=True)\n",
    "str_list"
   ]
  },
  {
   "cell_type": "code",
   "execution_count": 37,
   "metadata": {},
   "outputs": [
    {
     "data": {
      "text/plain": [
       "[22, 10, 7, 5, 3, 1]"
      ]
     },
     "execution_count": 37,
     "metadata": {},
     "output_type": "execute_result"
    }
   ],
   "source": [
    "int_list.sort(reverse=True)\n",
    "int_list"
   ]
  },
  {
   "cell_type": "code",
   "execution_count": 41,
   "metadata": {},
   "outputs": [
    {
     "ename": "TypeError",
     "evalue": "can only concatenate list (not \"int\") to list",
     "output_type": "error",
     "traceback": [
      "\u001b[1;31m---------------------------------------------------------------------------\u001b[0m",
      "\u001b[1;31mTypeError\u001b[0m                                 Traceback (most recent call last)",
      "Cell \u001b[1;32mIn[41], line 1\u001b[0m\n\u001b[1;32m----> 1\u001b[0m \u001b[43mint_list\u001b[49m\u001b[43m \u001b[49m\u001b[38;5;241;43m+\u001b[39;49m\u001b[38;5;241;43m5\u001b[39;49m\n",
      "\u001b[1;31mTypeError\u001b[0m: can only concatenate list (not \"int\") to list"
     ]
    }
   ],
   "source": [
    "int_list +5"
   ]
  }
 ],
 "metadata": {
  "kernelspec": {
   "display_name": "Python 3 (ipykernel)",
   "language": "python",
   "name": "python3"
  },
  "language_info": {
   "codemirror_mode": {
    "name": "ipython",
    "version": 3
   },
   "file_extension": ".py",
   "mimetype": "text/x-python",
   "name": "python",
   "nbconvert_exporter": "python",
   "pygments_lexer": "ipython3",
   "version": "3.12.3"
  }
 },
 "nbformat": 4,
 "nbformat_minor": 4
}
