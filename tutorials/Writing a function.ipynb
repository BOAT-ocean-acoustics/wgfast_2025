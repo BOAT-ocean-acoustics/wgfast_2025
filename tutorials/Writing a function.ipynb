{
 "cells": [
  {
   "cell_type": "markdown",
   "id": "c1c69e0c-41ec-4171-b7db-ec4937d274b2",
   "metadata": {},
   "source": [
    "# Writing a function\n",
    "\n",
    "1) Write a function `wavelength` to compute the wavelength $$\\lambda = \\frac{c}{f}$$ with `c` the ambient sound speed in m/s and `f`the frequency in Hz\n",
    "2) Write a function `wave_number`  to compute $$k = \\frac{2 \\pi}{\\lambda}$$. Hint: To get `pi` `import math` and then use `math.pi`\n",
    "3) Write a function `active_radius` $$d_r =  3.2 / (k~sin(bw/2))$$  with `bw` the 3 dB beamwidth in °\n",
    "4) Write a function to calculate the near-field from a round transducer: $$r_{nf} =  \\frac{\\pi d_{t}^2}{4\\lambda}$$\n",
    "5) BONUS: Write a function to compute the deadzone: $$\\frac{d}{sin(90 - q)} - d + c * \\tau / 2$$ with `d` the bottom depth in m, `q` the slope in °, $\\tau$ the pusle duration in s"
   ]
  },
  {
   "cell_type": "code",
   "execution_count": 4,
   "id": "3e9517ea-2d0e-4782-91cf-525e5e3230dd",
   "metadata": {},
   "outputs": [],
   "source": [
    "import numpy as np\n",
    "import math\n",
    "\n",
    "def wavelength(f, c = 1500):\n",
    "        \"\"\"\n",
    "        Calculate the wavelength λ = c / f\n",
    "\n",
    "        Attributes:\n",
    "        frequency (float): Frequency of the wave in Hz.\n",
    "        speed (float): Speed of sound in water in m/s (default 1500 m/s).\n",
    "        \n",
    "        \"\"\"\n",
    "        return c / f\n",
    "\n",
    "def wave_number(f, c=1500):\n",
    "    \"\"\"Calculate the wave number k = 2π / λ\n",
    "\n",
    "    Attributes:\n",
    "    frequency (float): Frequency of the wave in Hz.\n",
    "    speed (float): Speed of sound in water in m/s (default 1500 m/s).\n",
    "            \n",
    "    \"\"\"\n",
    "    return 2 * math.pi / wavelength(f, c)\n",
    "\n",
    "def active_radius(f, c=1500, bw=7):\n",
    "    \"\"\"\n",
    "    Calculates the active radius of a round transducer in ster\n",
    "    3.2 / k sin(bw/2)\n",
    "    \n",
    "    Attributes:\n",
    "    frequency (float): Frequency of the wave in Hz.\n",
    "    speed (float): Speed of sound in water in m/s (default 1500 m/s).\n",
    "    bw (float): θ3dB, 3 dB beamwidth in ° (default 7°). \n",
    "\n",
    "    \"\"\"\n",
    "    return 3.2 / (wave_number(f,c) * np.sin(math.radians(bw /2) ))\n",
    "    \n",
    "def nearfield_distance(f, c=1500, bw=7):\n",
    "    \"\"\"\n",
    "    Calculate the acoustic near-field distance in m\n",
    "    \n",
    "    Attributes:\n",
    "    frequency (float): Frequency of the wave in Hz.\n",
    "    speed (float): Speed of sound in water in m/s (default 1500 m/s).\n",
    "    bw (float): θ3dB, 3 dB beamwidth in ° (default 7°). \n",
    "\n",
    "    \"\"\"\n",
    "    return math.pi * active_radius(f, c, bw)**2 / (4 * wavelength(f,c))\n",
    "\n",
    "def deadzone(d, speed,q, tau):\n",
    "    \"\"\"\n",
    "    Calculate the distance from the bottom at which there is bias\n",
    "\n",
    "    Parameters:\n",
    "        d (float or integer): Bottom Depth in m\n",
    "        speed (float or integer): Ambient sound speed in m/s\n",
    "        q (float or integer): slope of the seafloor in °\n",
    "        tau (float or integer): pulse duration in s\n",
    "\n",
    "    Returns:\n",
    "        Distance from the bottom where there is bias in m\n",
    "        \n",
    "    \"\"\"\n",
    "    return (d / np.sin(math.radians(90 - q)) - d) + speed * tau / 2"
   ]
  },
  {
   "cell_type": "code",
   "execution_count": 5,
   "id": "c797dd31-7359-4d27-940e-4eebd1e99ee1",
   "metadata": {},
   "outputs": [
    {
     "data": {
      "text/plain": [
       "2.157680845426558"
      ]
     },
     "execution_count": 5,
     "metadata": {},
     "output_type": "execute_result"
    }
   ],
   "source": [
    "nearfield_distance(38000,1500,7)"
   ]
  },
  {
   "cell_type": "code",
   "execution_count": null,
   "id": "ab956d79-398e-4b33-abe5-f75ffddb1b2b",
   "metadata": {},
   "outputs": [],
   "source": []
  }
 ],
 "metadata": {
  "kernelspec": {
   "display_name": "Python 3 (ipykernel)",
   "language": "python",
   "name": "python3"
  },
  "language_info": {
   "codemirror_mode": {
    "name": "ipython",
    "version": 3
   },
   "file_extension": ".py",
   "mimetype": "text/x-python",
   "name": "python",
   "nbconvert_exporter": "python",
   "pygments_lexer": "ipython3",
   "version": "3.12.3"
  }
 },
 "nbformat": 4,
 "nbformat_minor": 5
}
