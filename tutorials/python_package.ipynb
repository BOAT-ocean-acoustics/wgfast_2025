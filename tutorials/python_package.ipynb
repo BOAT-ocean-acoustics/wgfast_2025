{
 "cells": [
  {
   "cell_type": "markdown",
   "id": "c9021078-495c-4b2b-8786-5bf6a4018460",
   "metadata": {},
   "source": [
    "# What is a Python package?  \n",
    "\n",
    "Typically a Python package contains an initialisation file (__init__.py), and a number of modules (containing classes, functions and variables) stored in **.py* files.  \n",
    "\n",
    "![Python Packages Classes and Functions](./python_why_files/classes_packages.png)"
   ]
  }
 ],
 "metadata": {
  "kernelspec": {
   "display_name": "Python 3 (ipykernel)",
   "language": "python",
   "name": "python3"
  },
  "language_info": {
   "codemirror_mode": {
    "name": "ipython",
    "version": 3
   },
   "file_extension": ".py",
   "mimetype": "text/x-python",
   "name": "python",
   "nbconvert_exporter": "python",
   "pygments_lexer": "ipython3",
   "version": "3.12.3"
  }
 },
 "nbformat": 4,
 "nbformat_minor": 5
}
