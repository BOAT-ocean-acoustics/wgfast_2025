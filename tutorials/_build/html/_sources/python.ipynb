{
 "cells": [
  {
   "cell_type": "markdown",
   "metadata": {},
   "source": [
    "# Python (very basic) Basics  "
   ]
  },
  {
   "cell_type": "markdown",
   "metadata": {},
   "source": [
    "```{warning}\n",
    "Python Starts counting at 0 unlike R or Matlab which start at 1  \n",
    "```"
   ]
  },
  {
   "cell_type": "markdown",
   "metadata": {},
   "source": [
    "Python code can be directly executed from the command line (no need to compile) or by creating a text file with a *.py extension.  \n",
    "\n",
    "![Python Console](./python_basics_files/python_console.png)  \n",
    "\n",
    "## Indentation  \n",
    "\n",
    "A key difference of Python compared to most other programming languages is that in Python indentation matters (the spaces at the beginning of every line of code). Python uses indentation to deliminate blocks of code. The number of spaces you use is up to you but you need to be consistent. Commonly 4 spaces are used.  \n",
    "*Example:*  \n",
    "\n",
    "```python\n",
    "print(\"This is the first line of the code\") \n",
    "a = 10 \n",
    "print(\"Here we add an if statement\")\n",
    "if a > 5:\n",
    "    print(a)\n",
    "else:\n",
    "    print(\"a is < 5\")\n",
    "```\n",
    "\n",
    "If you were to skip the indentation, Python will throw an error:  \n",
    "\n",
    "```IndentationError: expected an indented block```  \n",
    "This might feel like a nuissance at first, but after a while it will feel natural and keep your code organised.\n",
    "\n",
    "```{note}\n",
    "### R - {}  \n",
    "\n",
    "In R, a consistent use of indentation will make code much easier to read but is not strictly necessary. Functions, loops and statemtent are delimited by ```{}```.  \n",
    "*Example:*  \n",
    "\n",
    "```r\n",
    "print(\"This is the first line of the code\") \n",
    "a = 10 \n",
    "print(\"Here we add an if statement\")\n",
    "if (a > 5){\n",
    "    print(a)\n",
    "}else{\n",
    "    print(\"a is < 5\")\n",
    "}\n",
    "```\n",
    "```{note}\n",
    "### Matlab - end  \n",
    "\n",
    "In Matlab, a consistent use of indentation will make code much easier to read but is not strictly necessary. Ending each line with ```;``` will prevent printing the result to the console. Functions loops and statements are closed by ```end```.  \n",
    "**Example**  \n",
    "\n",
    "```matlab\n",
    "disp(\"This is the first line of the code\");\n",
    "a = 10;\n",
    "disp(\"Here we add an if statement\");\n",
    "if a > 5;\n",
    "    disp(a);\n",
    "else\n",
    "    disp(\"a is < 5\");\n",
    "end\n",
    "```\n",
    "\n",
    "## Commenting  \n",
    "\n",
    "Code you be easy to understand for anyone who picks it up. Therefore commenting is very important. commenting in Pyhton can be done on a [module-level docstrings](https://peps.python.org/pep-0257/) (describing functions)  or as inline expalanations, what is happenign in the code.  \n",
    "Whatever you wrtie after ```#``` will be considered a comment and will be ignored during code execution. Example:  \n"
   ]
  },
  {
   "cell_type": "code",
   "execution_count": 74,
   "metadata": {},
   "outputs": [],
   "source": [
    "# This code will run, but nothing happend, because this is a comment"
   ]
  },
  {
   "cell_type": "markdown",
   "metadata": {},
   "source": [
    "## Classes  \n",
    "\n",
    "Classes can be seen as containers of specific functions and variables. Let's think of a class called *AcousticWave* which we want to use to describe a number of properties of an acoustic wave, like the wave length:\n",
    "\n",
    "```{python}\n",
    "class AcousticWave\n",
    "```\n",
    "## Functions  \n",
    "  \n",
    "  In Python functions are **def**ined as:\n",
    "\n",
    "```{python}\n",
    "def function_name(v1, v2):\n",
    "    results = some stuff is happening with the variables\n",
    "    return results\n",
    "```\n",
    "\n",
    "Functions are starting with ```def``` followed by the function name with the dependent variables in brackets. This line ends by ```:```.  \n",
    "The following lines are indented to deliminate the space specific to the given function. The function end typically with a ```return``` call. ```return```defines the output of the function (what is returned from the function).  \n",
    "\n",
    "In our example of the wave length, the function would be *wave_length*, dependent on the soundspeed *c* and the frequency *f*  as *wave_length* $= \\frac{c}{f} [m]$\n",
    "\n",
    "  ```python\n",
    "  def wave_length(c, f):\n",
    "    return c / f\n",
    "  ```\n",
    "  \n",
    "```{note}\n",
    "*Python functions compared to R and Matlab*\n",
    "The way functions are written in Python is analoguous to R and Matlab:  \n",
    "**R**\n",
    "```R\n",
    "  function_name = function(v1, v2){\n",
    "      results = some  stuff is happening with the variables\n",
    "      return(results)\n",
    "  }\n",
    "```\n",
    "```{note}\n",
    "**Matlab:**\n",
    "  \n",
    "```matlab\n",
    "  function [result] = function_name(v1, v2)\n",
    "       results = some stuff is happening with the variables\n",
    "  end\n",
    "```\n",
    "\n",
    "**Special case: lambda functions**\n",
    "\n",
    "\n",
    "## Variables  \n",
    "\n",
    "  Variables can be user defined or defined by initial values. In our examples these would be the sound speed *c* and frequency *f*\n",
    "  \n",
    "For example imagine a class AcousticWave which we use to describe acoustic waves. The properties of the acoustic wave depend on variables, that we want the user to provide. These could be *c* the soundspeed in m/s and *f* the frequency in Hz. The properties we want to describe could be wave length defined by a function *wave_length* that depends on *c* and *f*  \n",
    "  \n",
    "A very minimalistic example would be:  \n",
    "\n",
    "```{tip}\n",
    "*Naming convention for classes , funcitons and variables*  \n",
    "[Class names](https://peps.python.org/pep-0008/#class-names) should normally use the CapWords naming convention, e.g. AcousticWave  \n",
    "[Variable and Function names](https://peps.python.org/pep-0008/#function-and-variable-names) should generally by lowercase, with words separated by underscores, e.g. wave_length\n",
    "```\n",
    "\n"
   ]
  },
  {
   "cell_type": "markdown",
   "metadata": {},
   "source": []
  },
  {
   "cell_type": "markdown",
   "metadata": {},
   "source": [
    "- __Mathematical operations:__  \n",
    "\n",
    "| Python | Operation | Result|\n",
    "| ------ | --------- | ----- |\n",
    "| a = 3  | a = 3 (define or assign)| 3|\n",
    "| b = 4 | b = 4 (define or assign)| 4|\n",
    "| a + b | Sum a and b (addition)| 7 |\n",
    "| a - b | Subtract b from a (subtraction)| -1|\n",
    "| a * b | a times b (multiplicaiton)| 12 |\n",
    "|a / b | a divided by b (division) | 0.75 |\n",
    "| a // b| Integer part of a divided by b (floor division)| 0|\n",
    "| a % b | Rest of a divided by b (modulus)| 3 |\n",
    "| a**b | a to the power of b (exponention)| 81|\n",
    "\n",
    "```{warning} \n",
    "The basic mathematical operations are analoguous to R and Matlab with the exception of ```a**b```which would be ```a^b```in R or Matlab.\n",
    "```\n",
    "\n",
    "For a lot of other mathematical operations or constants, we need to import the math module:  \n"
   ]
  },
  {
   "cell_type": "code",
   "execution_count": 73,
   "metadata": {},
   "outputs": [
    {
     "name": "stdout",
     "output_type": "stream",
     "text": [
      "2.718281828459045\n",
      "inf\n",
      "nan\n",
      "3.141592653589793\n",
      "6.283185307179586\n"
     ]
    }
   ],
   "source": [
    "import math\n",
    "print(math.e) #Euler's number\n",
    "print(math.inf ) #positinve infinity floating point number\n",
    "print(math.nan) #floating point not a number value\n",
    "print(math.pi) #number pi\n",
    "print(math.tau) #math tau"
   ]
  },
  {
   "cell_type": "markdown",
   "metadata": {},
   "source": [
    "Besides these mathematical constants, the math module also contains geomatric funcitons (e.g. ```math.cos()```, ```math.acos()```, ```math.sin()```, ```math.atan2()```, ```math.hypot()```), transformations (```math.degrees()``` - radians to degrees, ```math.radians()``` - degrees to radians,  ```math.dist()``` - euclidean distance, ```math.close()``` - checks if values are close to each other), and log functions  (e.g. ```math.log()```, ```math.log10()```) and many more. "
   ]
  },
  {
   "cell_type": "markdown",
   "metadata": {},
   "source": [
    "## Python core data structure  \n",
    "\n",
    "There a re 4 core data structures in Python:  \n",
    "- **List**: a collection of values, can be ordered and is changeable. Allows duplicate members.\n",
    "- **Tuple**: a collection which can be ordered and is *unchangeable*. Allows duplicate members.\n",
    "- **Set**: a collection which is unordered, *unchangeable*, *unindexed*. No duplicate members (duplicates ar eremoved). Items can't be changed but can be removed or added.\n",
    "- **Dictionary**: a collection which is ordered (as of Python 3.7) and changeable. No duplicate members.\n",
    "\n",
    "### Lists  \n",
    "  Are used to store sequences of items, and can hold a mix of data types like strings, integegers and floats. Lists are defined by ```[]```.  \n",
    "\n",
    "  |List operation| Python|Result|\n",
    "  |-|-|-|\n",
    "  |List of numbers| ```int_list = [1, 5, 3, 22, 7, 10]``` | ```[1, 5, 3, 22, 7, 10]``` |\n",
    "  |List of strings| ```str_list = ['e','c','h', 'o', 'p','y', 'p', 'e']```| ```['e','c','h', 'o', 'p','y', 'p', 'e']```|\n",
    "  |List with mixed types| ```mixed_list = [\"EK\", 80, \"38 kHz\", 7, \"CD\"]```  | ```['EK', 80, '38 kHz', 7, 'CD']``` |\n",
    "  |Access element at first position| ```mixed_list[0]```|```'EK'```|\n",
    "  |Access element at fourth position| ```mixed_list[3]```|```'7'```|\n",
    "  |Replace an element in a list| ```int_list[2] = 4 ```| ```[1, 5, 4, 22, 7, 10]``` | \n",
    "  |Get the number of elements in the list| ```len(mixed_list)```|```5```|\n",
    "  |Add element to the end of a list| ```mixed_list.append('ME70')```|```['EK', 80, '38 kHz', 7, 'CD', 'ME70']```|\n",
    "  |Add element to the 6th position of a list| ```mixed_list.insert([5, 'Simrad'])```|```['EK', 80, '38 kHz', 7, 'CD','Simrad' ,'ME70']```|\n",
    "  |Extend list by a list| ```mixed_list.extend([24,18,36,'ME70','Beam'])```|```['EK', 80, '38 kHz', 7, 'CD', 'ME70', 24, 18, 36, 'ME70', 'Beam']```|\n",
    "  |Count occurences of an element in a list| ```mixed_list.count['ME70']```|```2```|\n",
    "  |Clear list| ```mixed_list.clear()```|```[]```|\n",
    "  |Sort list alphabetically or ascending| ```str_list.sort()```|```['c', 'e', 'e', 'h', 'o', 'p', 'p', 'y']```|\n",
    "  |Sort list descending| ```int_list.sort(reverse=True)```|```[22, 10, 7, 5, 4, 1]```|\n",
    "  ||Remove elment from list| ```int_list.remove(5)```|```[22, 10, 7, 4, 1]```|\n",
    "\n",
    "List of lists can be used as matrix structures. We can create a 3x3 grid as a nested list of 3 lists:"
   ]
  },
  {
   "cell_type": "code",
   "execution_count": 2,
   "metadata": {},
   "outputs": [
    {
     "data": {
      "text/plain": [
       "[[1, 2, 3], [4, 5, 6], [7, 8, 9]]"
      ]
     },
     "execution_count": 2,
     "metadata": {},
     "output_type": "execute_result"
    }
   ],
   "source": [
    "matrix = [[1, 2, 3], [4, 5, 6], [7, 8, 9]]\n",
    "matrix"
   ]
  },
  {
   "cell_type": "markdown",
   "metadata": {},
   "source": [
    "We can access items with double indices:"
   ]
  },
  {
   "cell_type": "code",
   "execution_count": 3,
   "metadata": {},
   "outputs": [
    {
     "data": {
      "text/plain": [
       "6"
      ]
     },
     "execution_count": 3,
     "metadata": {},
     "output_type": "execute_result"
    }
   ],
   "source": [
    "matrix[1][2]"
   ]
  },
  {
   "cell_type": "markdown",
   "metadata": {},
   "source": [
    "### Tuples  \n",
    "Tuples are immutable - once created, the elments can't be changed anymore. Tuples are used if you need data to be read only.  \n",
    "\n",
    "|Tuple Operation |Python|Result|\n",
    "|----------------|------|------|\n",
    "|Create a tuple|```num_tup = (1,2,3)```|```(1,2,3)```|\n",
    "|Append values to a tuple|```num_tup = num_tup + (4,5,6)```|```(1,2,3,4,5,6)```|\n",
    "|Repeat a tuple multiple times|```num_tup = num_tup * 3 ```|```(1, 2, 3, 4, 5, 6, 1, 2, 3, 4, 5, 6, 1, 2, 3, 4, 5, 6)```|\n",
    "|Get index of first occurence of a value|```num_tup.index(5)```|```4```|\n",
    "|Count number of occurences of a value|```num_tup.count(5)```|```3```|  \n",
    "\n",
    "### Sets  \n",
    "\n",
    "Sets are collections of unique items, duplicates are removed automatically. Sets are handy for operations like union (combine), intersection or difference:  \n",
    "\n",
    "|Sets operation|Python| Result|\n",
    "|--------------|------|-------|\n",
    "|Define a Set of unique numbers (duplicates are removed)| ```num_set={1, 2, 2, 3, 3, 1, 4, 5}```|```{1,2,3,4,5}```|\n",
    "|Define a second Set of numbers| ```num_set2 = {4, 5, 6, 7, 8}```|```{4, 5, 6, 7, 8}```|\n",
    "|Combine the two Sets|```(num_set\\|num_set2)``` |```{1, 2, 3, 4, 5, 6, 7, 8}```| \n",
    "|Intersection of the two Sets <br>Elements present in both Sets|```num_set & num_set2``` |```{4, 5}```| \n",
    "|Difference the two Sets<br>Elements unique to the first Set|```num_set - num_set2``` |```{1, 2, 3}```| \n",
    "|Add a value to a Set|```num_set.add(6)``` |```{1, 2, 3, 4, 5, 6}```| \n",
    "|Remove a value from a Set|```num_set.remove(1)``` |```{2, 3, 4, 5, 6}```| \n",
    "|Check if value is in a Set|```6 in num_set``` |```True```| \n",
    "\n",
    "\n",
    "### Dictionaries  \n",
    "Dictionnaries store data in a key-value structure. Dictionnaries are useful for iterating (for tasks, such as filtering, sorting and grouping) over keys, values or items.\n"
   ]
  },
  {
   "cell_type": "code",
   "execution_count": 10,
   "metadata": {},
   "outputs": [
    {
     "data": {
      "text/plain": [
       "{'key': 'value'}"
      ]
     },
     "execution_count": 10,
     "metadata": {},
     "output_type": "execute_result"
    }
   ],
   "source": [
    "{\"key\":\"value\"}"
   ]
  },
  {
   "cell_type": "markdown",
   "metadata": {},
   "source": [
    "We could create a nested dictionary containing the center frequency (kHz), maximum transmit power (W), the nominal 3dB beamwidth $\\theta_{3dB}$ (°), and the transducer area ($10^{-3}$ m) for commonly used echosounders:  "
   ]
  },
  {
   "cell_type": "code",
   "execution_count": 20,
   "metadata": {},
   "outputs": [],
   "source": [
    "max_trans_power = {\n",
    "    \"EK18_11\": {\n",
    "        \"frequency_kHz\": 18,\n",
    "        \"transducer_area\":200,\n",
    "        \"beamwidth_3dB\":11,\n",
    "        \"power\":5000\n",
    "    },\n",
    "    \"EK38_7\": {  \n",
    "        \"frequency_kHz\": 38,\n",
    "        \"transducer_area\":100,\n",
    "        \"beamwidth_3dB\":7,\n",
    "        \"power\":2500\n",
    "    },\n",
    "    \"EK70_7\": {  \n",
    "        \"frequency_kHz\": 70,\n",
    "        \"transducer_area\":30,\n",
    "        \"beamwidth_3dB\":7,\n",
    "        \"power\":750\n",
    "    },\n",
    "    \"EK70_11\": {  \n",
    "        \"frequency_kHz\": 70,\n",
    "        \"transducer_area\":12,\n",
    "        \"beamwidth_3dB\":11,\n",
    "        \"power\":300\n",
    "    },\n",
    "    \"EK120_7\": {  \n",
    "        \"frequency_kHz\": 120,\n",
    "        \"transducer_area\":10,\n",
    "        \"beamwidth_3dB\":7,\n",
    "        \"power\":250\n",
    "    },\n",
    "    \"EK200_7\": {  \n",
    "        \"frequency_kHz\": 200,\n",
    "        \"transducer_area\":4.4,\n",
    "        \"beamwidth_3dB\":7,\n",
    "        \"power\":110\n",
    "    },\n",
    "    \"EK333_7\": {  \n",
    "        \"frequency_kHz\": 333,\n",
    "        \"transducer_area\":100,\n",
    "        \"beamwidth_3dB\":7,\n",
    "        \"power\":2500\n",
    "    }\n",
    "}"
   ]
  },
  {
   "cell_type": "markdown",
   "metadata": {},
   "source": [
    "Now we just quickly extract the transducer names and the maximum power:"
   ]
  },
  {
   "cell_type": "code",
   "execution_count": 57,
   "metadata": {},
   "outputs": [
    {
     "data": {
      "text/plain": [
       "{'EK18_11': 5000,\n",
       " 'EK38_7': 2500,\n",
       " 'EK70_7': 750,\n",
       " 'EK70_11': 300,\n",
       " 'EK120_7': 250,\n",
       " 'EK200_7': 110,\n",
       " 'EK333_7': 2500}"
      ]
     },
     "execution_count": 57,
     "metadata": {},
     "output_type": "execute_result"
    }
   ],
   "source": [
    "power_dict = {key: vals[\"power\"] for key, vals in max_trans_power.items()}\n",
    "power_dict"
   ]
  },
  {
   "cell_type": "markdown",
   "metadata": {},
   "source": [
    "We can use this information to find the transducers with the highest maximum operating power:"
   ]
  },
  {
   "cell_type": "code",
   "execution_count": 61,
   "metadata": {},
   "outputs": [
    {
     "data": {
      "text/plain": [
       "'EK18_11'"
      ]
     },
     "execution_count": 61,
     "metadata": {},
     "output_type": "execute_result"
    }
   ],
   "source": [
    "max(power_dict, key=power_dict.get)"
   ]
  },
  {
   "cell_type": "markdown",
   "metadata": {},
   "source": [
    "We can also list all echosounder names with a maximum operating power > 1000 W:"
   ]
  },
  {
   "cell_type": "code",
   "execution_count": 67,
   "metadata": {},
   "outputs": [
    {
     "data": {
      "text/plain": [
       "['EK18_11', 'EK38_7', 'EK333_7']"
      ]
     },
     "execution_count": 67,
     "metadata": {},
     "output_type": "execute_result"
    }
   ],
   "source": [
    "keys = list(filter(lambda key: power_dict[key] > 1e3, power_dict))\n",
    "keys"
   ]
  }
 ],
 "metadata": {
  "kernelspec": {
   "display_name": "Python 3 (ipykernel)",
   "language": "python",
   "name": "python3"
  },
  "language_info": {
   "codemirror_mode": {
    "name": "ipython",
    "version": 3
   },
   "file_extension": ".py",
   "mimetype": "text/x-python",
   "name": "python",
   "nbconvert_exporter": "python",
   "pygments_lexer": "ipython3",
   "version": "3.12.3"
  }
 },
 "nbformat": 4,
 "nbformat_minor": 4
}
