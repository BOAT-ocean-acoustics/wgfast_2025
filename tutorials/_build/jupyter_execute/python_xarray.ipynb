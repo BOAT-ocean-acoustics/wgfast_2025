{
 "cells": [
  {
   "cell_type": "markdown",
   "id": "9bf2da3a-abda-41f6-b490-85603c961ac3",
   "metadata": {},
   "source": [
    "# Xarray"
   ]
  }
 ],
 "metadata": {
  "kernelspec": {
   "display_name": "Python 3 (ipykernel)",
   "language": "python",
   "name": "python3"
  },
  "language_info": {
   "codemirror_mode": {
    "name": "ipython",
    "version": 3
   },
   "file_extension": ".py",
   "mimetype": "text/x-python",
   "name": "python",
   "nbconvert_exporter": "python",
   "pygments_lexer": "ipython3",
   "version": "3.12.9"
  }
 },
 "nbformat": 4,
 "nbformat_minor": 5
}