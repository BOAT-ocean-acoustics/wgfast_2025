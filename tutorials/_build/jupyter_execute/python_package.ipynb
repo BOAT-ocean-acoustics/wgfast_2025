{
 "cells": [
  {
   "cell_type": "markdown",
   "id": "791402a0-4230-4544-b933-0bf9939c2ac6",
   "metadata": {},
   "source": [
    "# Creating a Python Package `underwater_acoustics`\n",
    "\n",
    "Here we create a Python package from scratch for **underwater acoustic wave calculations**.  \n",
    "\n",
    "We will implement:  \n",
    "✅ A **class** `AcousticWave`  \n",
    "✅ Functions for **wavelength, wave number, and near-field distance** inside the class and a **deadzone distance* calculator outside of the class  \n",
    "✅ A **proper package structure**  \n",
    "\n",
    "Typically a Python package contains at least an initialisation file (__init__.py), and a number of modules (containing classes, functions and variables) stored in **.py* files, a *setup.py* file and a *readme* file.  \n",
    "\n",
    "![Python Packages Classes and Functions](./python_why_files/classes_packages.png)\n",
    "\n",
    "\n",
    "\n",
    "## Step 1: Project Structure  \n",
    "\n",
    "Create a directory and organize files as follows, all modules to be included in the oackage should be organised in a subfolder. The name of the subfolder defines how the package will be imported (here we call the folder uwa and will import the package using `import uwa`. This folder has to include an initialisation file `__init__.py` and at least one module, here `wave.py`. In the main package folder we have a `toml` file, contains installation and metadata information (in older versions this was a `setup.py` file), a `README.md` which conains a project description, `LICENSE` which is the license text and if needed, a `requirements.txt` file:  \n",
    "\n",
    "```\n",
    "uwa-underwater_acoustics/\n",
    "\n",
    "│── uwa/ # Main package directory\n",
    "│   │── init.py # Makes this a package\n",
    "│   │── wave.py # Contains AcousticWave class & functions\n",
    "|\n",
    "│── pyproject.toml # Package metadata & installation\n",
    "|\n",
    "│── README.md # Project description\n",
    "|\n",
    "|── LICENSE\n",
    "|\n",
    "│── requirements.txt # Dependencies (if needed)\n",
    "|```"
   ]
  },
  {
   "cell_type": "markdown",
   "id": "6455191d-2a5b-4bb4-a08d-ecc10c3999bb",
   "metadata": {},
   "source": [
    "## Step 2: Implement the Package  \n",
    "\n",
    "### 1) Create an initialisation file `__init__.py`**\n",
    "\n",
    "The `__init__.py` file basically tells our Python package to look for bits and pieces in the folder where the `__init__.py` file is located (prior to Python 3.3 it was impossible to import funcitons from folders without an `__init__.py` file).  \n",
    "\n",
    "Here we import the class `AcousticWave`and the functions `wavelength`, `wave_number` and `nearfield_distance` from the the module `acoustic` (contained in the `acoustic.py` file in the same directory):  \n",
    "\n",
    "----\n",
    "*Content of `__init__.py`*  \n",
    "\n",
    "```{code-block} python\n",
    "# uwa/__init__.py\n",
    "from .wave import AcousticWave, deadzone\n",
    "```\n",
    "---\n",
    "\n",
    "A major benefit of initialisation files is that we can control which modules or sub-packages are avaialable when the package is imported . Through importing functions or classes in the init file, we can use them without the need to import them explicitly.  \n",
    "\n",
    "As a consequence of this init file, at a later stage, when we ar eusing our package we can use the class AcousticWave as follows:  \n",
    "\n",
    "```{code-block} python\n",
    "from uwa.uwa import AcousticWave\n",
    "```\n",
    "\n",
    "instead of having to import it from the `wave` module within the `uwa` package:  \n",
    "\n",
    "```{code-block} python\n",
    "from uwa.wave import AcousticWave\n",
    "```\n",
    "\n",
    "Besides loading modules or subpackages, the init file can also be used to run some code, when the package is imported (logging or setup codes would be an example).  \n",
    "\n",
    "### 2) Create the wave module `wave.py`  \n",
    "\n",
    "- import dependencies: Our package depends on the `numpy` and `math` packages for some basic operations.  \n",
    "- class definition: We start by defining a `class AcousticWave`  \n",
    "- class docstring: The first part is the docstring, containing information on what the purpose of this class is, and the a description of the input variables or class attributes.  \n",
    "- class initialisation: the class contains a self reference instance `self` and the two needed attributes `frequency` and `speed` which we assign to self during the initialisation, such that we can use it within the methods described in the class\n",
    "- define methods: we defined 3 methods within the `AcousticWave`class. `wave_number` and `wave_length` only depend on the attributes of the class, while `nearfield_distance` needs an additional input value.\n",
    "- define function `deadzone` outside of the class definition  \n",
    "\n",
    "\n",
    "```{note}\n",
    "*self*  \n",
    "n Python, self refers to the instance of a class and is used to access the instance's attributes and methods. It allows each object created from a class to maintain its own state and interact with its own data. When you define a method in a class, self is the first parameter, and it is automatically passed when you call the method on an object. This allows you to work with the specific instance of the class. \n",
    "In our example `self` allows our functions or methods to access the `frequency` and `speed` attributes from the AcousticWave class.  \n",
    "```\n",
    "\n",
    "```{note}\n",
    "*Function or method?*  \n",
    "Most likely the nomenclature is not used consistently within this tutorial...Technically a `function`can be defined in any part of a code and form standalone blocks of code. `methods` are tied to an object or class and can't operate outside of this. `functions`are defined locally or globally while `methods`are defined within classes and called on class instances.  \n",
    "```"
   ]
  },
  {
   "cell_type": "code",
   "execution_count": 46,
   "id": "9dafee45-ebb9-4d5a-bc22-5430906ea3f7",
   "metadata": {},
   "outputs": [],
   "source": [
    "# uwa/wave.py\n",
    "\n",
    "from numpy import sin, cos, pi\n",
    "from math import radians\n",
    "\n",
    "class AcousticWave:\n",
    "    \"\"\"\n",
    "    A class to represent an underwater acoustic wave.\n",
    "\n",
    "    Attributes:\n",
    "        frequency (float): Frequency of the wave in Hz.\n",
    "        speed (float): Speed of sound in water in m/s (default 1500 m/s).\n",
    "        bw (float): θ3dB, 3 dB beamwidth in ° (default 7°). \n",
    "    \"\"\"\n",
    "\n",
    "    def __init__(self, frequency, speed=1500, bw = 7):\n",
    "        #assign inputs to self\n",
    "        self.frequency = frequency\n",
    "        self.speed = speed\n",
    "        self.bw = bw\n",
    "        \n",
    "        #initialisation calculations:\n",
    "        self.wl = self.wavelength()\n",
    "        self.k = self.wave_number()\n",
    "        self.ar = self.active_radius()\n",
    "        self.rnf = self.nearfield_distance()\n",
    "\n",
    "    def wavelength(self):\n",
    "        \"\"\"Calculate the wavelength λ = c / f\"\"\"\n",
    "        return self.speed / self.frequency\n",
    "\n",
    "    def wave_number(self):\n",
    "        \"\"\"Calculate the wave number k = 2π / λ\"\"\"\n",
    "        return 2 * pi / self.wavelength()\n",
    "\n",
    "    def active_radius(self):\n",
    "        \"\"\"Calculates the active radius of a round transducer in ster\"\"\"\n",
    "        return 1.6 * 100 / (self.wave_number() * sin(radians(self.bw) / 2))\n",
    "        \n",
    "    def nearfield_distance(self):\n",
    "        \"\"\"Calculate the acoustic near-field distance in m\"\"\"\n",
    "        return ((2 * self.active_radius() / 100)** 2) / self.wavelength()\n",
    "\n",
    "def deadzone(BD, theta, speed, tau):\n",
    "    \"\"\"\n",
    "    Calculate the distance from the bottom at which there is bias\n",
    "\n",
    "    Parameters:\n",
    "        BD (float or integer): Bottom Depth in m\n",
    "        theta (float or integer): Angle at which fish are located, alternatively the 3dB beamwidth can be used in °\n",
    "        speed (float or integer): Ambient sound speed in m/s\n",
    "        tau (float or integer): pulse duration in s\n",
    "\n",
    "    Returns:\n",
    "        Distance from the bottom where there is bias in m\n",
    "        \n",
    "    \"\"\"\n",
    "    return BD * (1 - cos( radians(theta) / 2) ) + speed * tau / 2"
   ]
  },
  {
   "cell_type": "markdown",
   "id": "5b81bd65-8237-4c15-903e-58eeb27eca8b",
   "metadata": {},
   "source": [
    "We can test our functions quickly here:"
   ]
  },
  {
   "cell_type": "code",
   "execution_count": 50,
   "id": "405b86fd-7d07-4f59-a4e0-91f0e96b465b",
   "metadata": {},
   "outputs": [
    {
     "data": {
      "text/plain": [
       "{'frequency': 120000.0,\n",
       " 'speed': 1450,\n",
       " 'bw': 7,\n",
       " 'wl': 0.012083333333333333,\n",
       " 'k': 519.9877495596899,\n",
       " 'ar': 5.040244352915992,\n",
       " 'rnf': 0.8409620900557754}"
      ]
     },
     "execution_count": 50,
     "metadata": {},
     "output_type": "execute_result"
    }
   ],
   "source": [
    "aw = AcousticWave(speed=1450, frequency = 120e3, bw=7)\n",
    "aw.__dict__"
   ]
  },
  {
   "cell_type": "code",
   "execution_count": 48,
   "id": "84579ef7-3968-44d6-9687-5a805977a205",
   "metadata": {},
   "outputs": [
    {
     "data": {
      "text/plain": [
       "0.47652015781330803"
      ]
     },
     "execution_count": 48,
     "metadata": {},
     "output_type": "execute_result"
    }
   ],
   "source": [
    "deadzone(100,7,1450,0.0004)"
   ]
  },
  {
   "cell_type": "markdown",
   "id": "7a08549a-f71c-40c4-8620-a6bfded7e0da",
   "metadata": {},
   "source": [
    "## Step 3: Create a setup file `pyproject.toml` \n",
    "\n",
    "Formerly this was a `setup.py` but this has gradually been replaced by toml files. Just like setup.py files, [toml](https://packaging.python.org/en/latest/guides/writing-pyproject-toml/#writing-pyproject-toml) files can be used to build wheels used to install python packages.  \n",
    "\n",
    "- `name` is the distribution name of your package\n",
    "- `version` is the package version\n",
    "- `authors` identifies the authors\n",
    "- `description`one snetence summary of package\n",
    "- `readme` path to readme file\n",
    "- `requires-python` provides supported version to package\n",
    "- `classifiers` additional metadata\n",
    "- `licence` licence of package\n",
    "- `licence-files` paths to licence files\n",
    "- `urls` list any additional urls that should be contained within the package description"
   ]
  },
  {
   "cell_type": "markdown",
   "id": "0b7440a8-10f8-4af0-ba72-16f3923650c0",
   "metadata": {},
   "source": [
    "```\n",
    "# pyproject.toml\n",
    "[build-system]\n",
    "requires = [\"setuptools\", \"setuptools-scm\"]\n",
    "build-backend = \"setuptools.build_meta\"\n",
    "\n",
    "[project]\n",
    "name = \"uwa\"\n",
    "version = \"0.1\"\n",
    "authors = [\n",
    "  { name=\"Jupyter Pythonista\", email=\"jupyter@python.net\" },\n",
    "]\n",
    "description = \"A package for underwater acoustic wave calculations\"\n",
    "readme = \"README.md\"\n",
    "requires-python = \">=3.8\"\n",
    "dependencies = [\n",
    "    \"numpy\",\n",
    "    \"math\"\n",
    "]\n",
    "classifiers = [\n",
    "    \"Programming Language :: Python :: 3\",\n",
    "    \"Operating System :: OS Independent\",\n",
    "]\n",
    "license = \"MIT AND (Apache-2.0 OR BSD-2-Clause)\"\n",
    "\n",
    "[project.urls]\n",
    "Homepage = \"https://github.com/xxx/underwater_acoustics\"\n",
    "Issues = \"https://github.com/xxx/underwater_acoustics/issues\"\n",
    "```"
   ]
  },
  {
   "cell_type": "markdown",
   "id": "a03fca89-cb20-4234-8922-d9bfe32da9e5",
   "metadata": {},
   "source": [
    "## Step 4: Create a documentation file `README.md` \n",
    "\n",
    "<pre>\n",
    "# uwa - Underwater Acoustics\n",
    "\n",
    "This Python package provides calculations related to **underwater acoustic waves**, including:\n",
    "- **Wavelength (λ = c / f)**\n",
    "- **Wave number (k = 2π / λ)**\n",
    "- **Near-field distance**\n",
    "- **Acoustic Deadzone**\n",
    "\n",
    "## Installation\n",
    "You can install this package using the provided wheel\n",
    "\n",
    "## Usage\n",
    "```{code-block} python\n",
    "import uwa\n",
    "aw = uwa.wave.AcousticWave(38000)\n",
    "``` \n",
    "\n",
    "</pre>\n"
   ]
  },
  {
   "cell_type": "markdown",
   "id": "12171386-77c7-48a8-bc39-2744fe0063ec",
   "metadata": {},
   "source": [
    "## Step 5: Create a LICENSE file\n",
    "\n",
    "Go to [https://choosealicense.com/](https://choosealicense.com/), pick a license and save it in the `LICENSE` file.  \n",
    "You could for example pick the MIT license:  \n",
    "\n",
    "```\n",
    "MIT License\n",
    "\n",
    "Copyright (c) [year] [fullname]\n",
    "\n",
    "Permission is hereby granted, free of charge, to any person obtaining a copy\n",
    "of this software and associated documentation files (the \"Software\"), to deal\n",
    "in the Software without restriction, including without limitation the rights\n",
    "to use, copy, modify, merge, publish, distribute, sublicense, and/or sell\n",
    "copies of the Software, and to permit persons to whom the Software is\n",
    "furnished to do so, subject to the following conditions:\n",
    "\n",
    "The above copyright notice and this permission notice shall be included in all\n",
    "copies or substantial portions of the Software.\n",
    "\n",
    "THE SOFTWARE IS PROVIDED \"AS IS\", WITHOUT WARRANTY OF ANY KIND, EXPRESS OR\n",
    "IMPLIED, INCLUDING BUT NOT LIMITED TO THE WARRANTIES OF MERCHANTABILITY,\n",
    "FITNESS FOR A PARTICULAR PURPOSE AND NONINFRINGEMENT. IN NO EVENT SHALL THE\n",
    "AUTHORS OR COPYRIGHT HOLDERS BE LIABLE FOR ANY CLAIM, DAMAGES OR OTHER\n",
    "LIABILITY, WHETHER IN AN ACTION OF CONTRACT, TORT OR OTHERWISE, ARISING FROM,\n",
    "OUT OF OR IN CONNECTION WITH THE SOFTWARE OR THE USE OR OTHER DEALINGS IN THE\n",
    "SOFTWARE.\n",
    "```\n"
   ]
  },
  {
   "cell_type": "markdown",
   "id": "df575fad-b8bf-4ce2-a3da-4ecec9f3254e",
   "metadata": {},
   "source": [
    "## Step 6: Package up the Python code and install it  \n",
    "\n",
    "We will create a wheel for our project. A wheel is a built package that can be installed without needing to go through the “build” process. Installing wheels is substantially faster for the end user than installing from a source distribution.  \n",
    "\n",
    "Before we can build wheels we need to make sure the `build` package is available. Run:\n",
    "\n",
    "```{code-block} bash\n",
    "python -m pip install build\n",
    "```\n",
    "\n",
    "Now we are ready to build our source package and wheel. Move into the directory where all files are stored.  \n",
    "We create a Source distribution:\n",
    "```{code-block} bash\n",
    "python -m build --sdist\n",
    "```\n",
    "\n",
    "Now we create a wheel to make sharing and isntalling the package easier:  \n",
    "\n",
    "```{code-block} bash\n",
    "python -m build\n",
    "```\n",
    "\n",
    "This will take a little while...but eventually you should see:  \n",
    "\n",
    "```\n",
    "...\n",
    "running install_scripts\n",
    "creating build\\bdist.win-amd64\\wheel\\uwa-0.1.dist-info\\WHEEL\n",
    "creating 'C:\\Users\\gastauer\\Documents\\Projekte\\WGFAST\\2025\\boat\\wgfast_2025\\tutorials\\python_package\\dist\\.tmp-4r6y9lfp\\uwa-0.1-py3-none-any.whl' and adding 'build\\bdist.win-amd64\\wheel' to it\n",
    "adding 'uwa/__init__.py'\n",
    "adding 'uwa/wave.py'\n",
    "adding 'uwa-0.1.dist-info/licenses/LICENSE'\n",
    "adding 'uwa-0.1.dist-info/METADATA'\n",
    "adding 'uwa-0.1.dist-info/WHEEL'\n",
    "adding 'uwa-0.1.dist-info/top_level.txt'\n",
    "adding 'uwa-0.1.dist-info/RECORD'\n",
    "removing build\\bdist.win-amd64\\wheel\n",
    "Successfully built uwa-0.1.tar.gz and uwa-0.1-py3-none-any.whl\n",
    "```\n",
    "\n",
    "Now we have created a package. You can easily install and share the source package `*.tar.gz`or the wheel `*.whl`.  The package could be uploaded to pypi and be installed from anywhere through `pip`.  \n",
    "\n",
    "`whl` files can be installed by calling `pip install my-package.whl`.  \n",
    "The `whl` file is in the dist folder:\n",
    "\n",
    "```{code-block} bash\n",
    "pip install ./dist/uwa-0.1-py3-none-any.whl\n",
    "```\n",
    "\n",
    "You should see something like:  \n",
    "```\n",
    "Processing ...\\dist\\uwa-0.1-py3-none-any.whl\n",
    "Requirement already satisfied: numpy in ...\\wgfast25\\lib\\site-packages (from uwa==0.1) (1.26.4)\n",
    "Installing collected packages: uwa\n",
    "Successfully installed uwa-0.1\n",
    "```\n",
    "Now we can test if it all worked:  \n"
   ]
  },
  {
   "cell_type": "code",
   "execution_count": 55,
   "id": "df3261d8-c79e-49dc-8bed-b1c683b5de84",
   "metadata": {},
   "outputs": [],
   "source": [
    "import uwa"
   ]
  },
  {
   "cell_type": "markdown",
   "id": "5ea59c9b-5af4-473a-80d3-6686787b704f",
   "metadata": {},
   "source": [
    "No error message means the package is imported successfully 😀  \n",
    "Let's test it:"
   ]
  },
  {
   "cell_type": "code",
   "execution_count": 58,
   "id": "679eaf35-9458-4dd0-a955-59b5363d6050",
   "metadata": {},
   "outputs": [
    {
     "data": {
      "text/plain": [
       "{'frequency': 38000.0,\n",
       " 'speed': 1450,\n",
       " 'bw': 7,\n",
       " 'wl': 0.038157894736842106,\n",
       " 'k': 164.66278736056847,\n",
       " 'ar': 15.916561114471552,\n",
       " 'rnf': 2.6556697580708692}"
      ]
     },
     "execution_count": 58,
     "metadata": {},
     "output_type": "execute_result"
    }
   ],
   "source": [
    "ac = uwa.AcousticWave(speed = 1450, frequency = 38e3, bw = 7)\n",
    "ac.__dict__"
   ]
  },
  {
   "cell_type": "code",
   "execution_count": 59,
   "id": "c442fce6-ae89-4bde-86c1-3e5565df5338",
   "metadata": {},
   "outputs": [
    {
     "data": {
      "text/plain": [
       "0.47652015781330803"
      ]
     },
     "execution_count": 59,
     "metadata": {},
     "output_type": "execute_result"
    }
   ],
   "source": [
    "uwa.deadzone(BD = 100, speed = 1450, theta = 7, tau = 0.0004)"
   ]
  },
  {
   "cell_type": "markdown",
   "id": "7a2a64a4-931a-4e1c-aab6-03f9aa34263c",
   "metadata": {},
   "source": [
    "Can we get some help?"
   ]
  },
  {
   "cell_type": "code",
   "execution_count": 60,
   "id": "ba5958ad-d6fc-40d7-981b-f26d0eaf55ce",
   "metadata": {},
   "outputs": [
    {
     "name": "stdout",
     "output_type": "stream",
     "text": [
      "Help on class AcousticWave in module uwa.wave:\n",
      "\n",
      "class AcousticWave(builtins.object)\n",
      " |  AcousticWave(frequency, speed=1500, bw=7)\n",
      " |\n",
      " |  A class to represent an underwater acoustic wave.\n",
      " |\n",
      " |  Attributes:\n",
      " |      frequency (float): Frequency of the wave in Hz.\n",
      " |      speed (float): Speed of sound in water in m/s (default 1500 m/s).\n",
      " |      bw (float): θ3dB, 3 dB beamwidth in ° (default 7°).\n",
      " |\n",
      " |  Methods defined here:\n",
      " |\n",
      " |  __init__(self, frequency, speed=1500, bw=7)\n",
      " |      Initialize self.  See help(type(self)) for accurate signature.\n",
      " |\n",
      " |  active_radius(self)\n",
      " |      Calculates the active radius of a round transducer in ster\n",
      " |\n",
      " |  nearfield_distance(self)\n",
      " |      Calculate the acoustic near-field distance in m\n",
      " |\n",
      " |  wave_number(self)\n",
      " |      Calculate the wave number k = 2π / λ\n",
      " |\n",
      " |  wavelength(self)\n",
      " |      Calculate the wavelength λ = c / f\n",
      " |\n",
      " |  ----------------------------------------------------------------------\n",
      " |  Data descriptors defined here:\n",
      " |\n",
      " |  __dict__\n",
      " |      dictionary for instance variables\n",
      " |\n",
      " |  __weakref__\n",
      " |      list of weak references to the object\n",
      "\n"
     ]
    }
   ],
   "source": [
    "help(uwa.AcousticWave)"
   ]
  },
  {
   "cell_type": "code",
   "execution_count": 61,
   "id": "3f012c25-88da-4561-adfa-788d64998664",
   "metadata": {},
   "outputs": [
    {
     "name": "stdout",
     "output_type": "stream",
     "text": [
      "Help on function deadzone in module uwa.wave:\n",
      "\n",
      "deadzone(BD, theta, speed, tau)\n",
      "    Calculate the distance from the bottom at which there is bias\n",
      "\n",
      "    Parameters:\n",
      "        BD (float or integer): Bottom Depth in m\n",
      "        theta (float or integer): Angle at which fish are located, alternatively the 3dB beamwidth can be used in °\n",
      "        speed (float or integer): Ambient sound speed in m/s\n",
      "        tau (float or integer): pulse duration in s\n",
      "\n",
      "    Returns:\n",
      "        Distance from the bottom where there is bias in m\n",
      "\n"
     ]
    }
   ],
   "source": [
    "help(uwa.deadzone)"
   ]
  }
 ],
 "metadata": {
  "kernelspec": {
   "display_name": "Python 3 (ipykernel)",
   "language": "python",
   "name": "python3"
  },
  "language_info": {
   "codemirror_mode": {
    "name": "ipython",
    "version": 3
   },
   "file_extension": ".py",
   "mimetype": "text/x-python",
   "name": "python",
   "nbconvert_exporter": "python",
   "pygments_lexer": "ipython3",
   "version": "3.12.9"
  }
 },
 "nbformat": 4,
 "nbformat_minor": 5
}