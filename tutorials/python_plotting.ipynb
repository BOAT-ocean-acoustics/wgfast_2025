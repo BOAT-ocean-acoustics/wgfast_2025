{
 "cells": [
  {
   "cell_type": "markdown",
   "id": "45cb8016-d8a5-4c23-9af0-5b2f5a3ebe11",
   "metadata": {},
   "source": [
    "# Plotting"
   ]
  },
  {
   "cell_type": "code",
   "execution_count": null,
   "id": "161e2de3-4945-4282-8dfe-9490a5b2eafe",
   "metadata": {},
   "outputs": [],
   "source": [
    "import uwa\n",
    "import matplotlib.pyplot as plt\n",
    "import plotly"
   ]
  }
 ],
 "metadata": {
  "kernelspec": {
   "display_name": "Python 3 (ipykernel)",
   "language": "python",
   "name": "python3"
  },
  "language_info": {
   "codemirror_mode": {
    "name": "ipython",
    "version": 3
   },
   "file_extension": ".py",
   "mimetype": "text/x-python",
   "name": "python",
   "nbconvert_exporter": "python",
   "pygments_lexer": "ipython3",
   "version": "3.12.9"
  }
 },
 "nbformat": 4,
 "nbformat_minor": 5
}
